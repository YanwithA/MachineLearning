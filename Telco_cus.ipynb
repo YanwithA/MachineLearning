{
 "cells": [
  {
   "cell_type": "code",
   "execution_count": 1,
   "id": "8e646009-8c82-4409-9ac7-2429499600c0",
   "metadata": {},
   "outputs": [],
   "source": [
    "# =============== Setup ===============\n",
    "import numpy as np, pandas as pd\n",
    "from sklearn.model_selection import StratifiedKFold, cross_validate\n",
    "from sklearn.compose import ColumnTransformer\n",
    "from sklearn.pipeline import Pipeline\n",
    "from sklearn.preprocessing import OneHotEncoder, StandardScaler\n",
    "from sklearn.impute import SimpleImputer\n",
    "from sklearn.linear_model import LogisticRegression\n",
    "from sklearn.neural_network import MLPClassifier\n",
    "from sklearn.metrics import make_scorer, f1_score, roc_auc_score, average_precision_score, precision_recall_curve\n",
    "from imblearn.over_sampling import SMOTENC\n",
    "from imblearn.pipeline import Pipeline as ImbPipeline\n",
    "\n",
    "RANDOM_STATE = 42"
   ]
  },
  {
   "cell_type": "code",
   "execution_count": 9,
   "id": "9df25e50-7cea-4705-b280-b7025b98e4d4",
   "metadata": {},
   "outputs": [],
   "source": [
    "# =============== Load ===============\n",
    "df = pd.read_csv(r\"C:\\Users\\ASUS\\Downloads\\data\\telco_churn.csv\")\n",
    "target = \"Churn\"  # \"Yes\"/\"No\" -> 1/0\n",
    "df[target] = (df[target].astype(str).str.lower().str.strip() == \"yes\").astype(int)\n",
    "\n",
    "y = df[target].values\n",
    "X = df.drop(columns=[target])\n",
    "\n",
    "cat_cols = X.select_dtypes(include=[\"object\", \"category\"]).columns.tolist()\n",
    "num_cols = X.select_dtypes(include=[\"number\", \"bool\"]).columns.tolist()\n"
   ]
  },
  {
   "cell_type": "code",
   "execution_count": 16,
   "id": "b8c73d37-55eb-4212-bceb-b4ea683162e5",
   "metadata": {},
   "outputs": [],
   "source": [
    "# =============== CV & Metrics ===============\n",
    "cv = StratifiedKFold(n_splits=5, shuffle=True, random_state=RANDOM_STATE)\n",
    "scoring = {\n",
    "    \"ROC_AUC\": \"roc_auc\",\n",
    "    \"PR_AUC\":  \"average_precision\",\n",
    "    \"F1_pos\":  \"f1\",   # default pos_label=1 for binary 0/1\n",
    "}\n",
    "\n",
    "def evaluate(pipe, name):\n",
    "    res = cross_validate(pipe, X, y, cv=cv, scoring=scoring, n_jobs=-1)\n",
    "    print(f\"\\n{name}:\")\n",
    "    for k in [\"test_ROC_AUC\", \"test_PR_AUC\", \"test_F1_pos\"]:\n",
    "        arr = res[k]\n",
    "        print(f\"  {k[5:]}: {arr.mean():.4f} ± {arr.std():.4f}\")\n",
    "\n",
    "# =============== (1) Traditional: Logistic Regression ===============\n",
    "pre_lr = ColumnTransformer([\n",
    "    (\"num\", Pipeline([(\"imp\", SimpleImputer(strategy=\"median\")),\n",
    "                      (\"sc\", StandardScaler())]), num_cols),\n",
    "    (\"cat\", Pipeline([(\"imp\", SimpleImputer(strategy=\"most_frequent\")),\n",
    "                      (\"ohe\", OneHotEncoder(handle_unknown=\"ignore\", min_frequency=10))]), cat_cols)\n",
    "])\n",
    "\n",
    "lr = Pipeline([\n",
    "    (\"prep\", pre_lr),\n",
    "    (\"model\", LogisticRegression(max_iter=2000, class_weight=\"balanced\",\n",
    "                                 solver=\"lbfgs\", random_state=RANDOM_STATE))\n",
    "])\n",
    "\n",
    "# =============== (2) Deep: MLPClassifier + SMOTENC (fixed indices) ===============\n",
    "# Step A: Impute raw columns (no encoding yet)\n",
    "imp_raw = ColumnTransformer([\n",
    "    (\"num\", SimpleImputer(strategy=\"median\"), num_cols),\n",
    "    (\"cat\", SimpleImputer(strategy=\"most_frequent\"), cat_cols)\n",
    "], remainder=\"drop\")\n",
    "\n",
    "# IMPORTANT: After imp_raw, the column order is [num_cols..., cat_cols...]\n",
    "# So the SMOTENC categorical indices are:\n",
    "cat_idx_for_smote = list(range(len(num_cols), len(num_cols) + len(cat_cols)))\n",
    "\n",
    "smote = SMOTENC(categorical_features=cat_idx_for_smote,\n",
    "                random_state=RANDOM_STATE, k_neighbors=5)\n",
    "\n",
    "# Step B: After SMOTE, do OHE + scaling (MLP needs scaling)\n",
    "enc_scale = ColumnTransformer([\n",
    "    (\"num\", Pipeline([(\"sc\", StandardScaler())]), list(range(len(num_cols)))),\n",
    "    # OneHotEncoder will operate on categorical positions that FOLLOW the nums\n",
    "    (\"cat\", OneHotEncoder(handle_unknown=\"ignore\", min_frequency=10),\n",
    "            list(range(len(num_cols), len(num_cols) + len(cat_cols))))\n",
    "], remainder=\"drop\")\n",
    "\n",
    "mlp_clf = MLPClassifier(\n",
    "    hidden_layer_sizes=(256, 128, 64),\n",
    "    activation=\"relu\",\n",
    "    solver=\"adam\",\n",
    "    alpha=1e-4,\n",
    "    batch_size=512,\n",
    "    learning_rate_init=1e-3,\n",
    "    max_iter=250,\n",
    "    early_stopping=True,\n",
    "    n_iter_no_change=12,\n",
    "    random_state=RANDOM_STATE,\n",
    "    verbose=False\n",
    ")\n",
    "\n",
    "pipe_mlp = ImbPipeline([\n",
    "    (\"imp_raw\", imp_raw),        # impute raw\n",
    "    (\"smote\", smote),            # balance using correct categorical indices\n",
    "    (\"enc_scale\", enc_scale),    # OHE (cats) + scale (nums)\n",
    "    (\"clf\", mlp_clf)\n",
    "])"
   ]
  },
  {
   "cell_type": "code",
   "execution_count": 18,
   "id": "4b709ca1-081d-4c6c-b1a5-970c08ec1811",
   "metadata": {},
   "outputs": [
    {
     "name": "stdout",
     "output_type": "stream",
     "text": [
      "\n",
      "LogReg (class_weight) [Traditional]:\n",
      "  ROC_AUC: 0.8381 ± 0.0145\n",
      "  PR_AUC: 0.6412 ± 0.0292\n",
      "  F1_pos: 0.6066 ± 0.0271\n",
      "\n",
      "MLPClassifier + SMOTENC [Deep]:\n",
      "  ROC_AUC: 0.8004 ± 0.0198\n",
      "  PR_AUC: 0.5477 ± 0.0421\n",
      "  F1_pos: 0.5836 ± 0.0194\n"
     ]
    }
   ],
   "source": [
    "evaluate(lr,       \"LogReg (class_weight) [Traditional]\")\n",
    "evaluate(pipe_mlp, \"MLPClassifier + SMOTENC [Deep]\")"
   ]
  },
  {
   "cell_type": "code",
   "execution_count": null,
   "id": "4a65bffb-1e3c-429b-8399-ee0380a6e669",
   "metadata": {},
   "outputs": [],
   "source": []
  }
 ],
 "metadata": {
  "kernelspec": {
   "display_name": "Python 3 (ipykernel)",
   "language": "python",
   "name": "python3"
  },
  "language_info": {
   "codemirror_mode": {
    "name": "ipython",
    "version": 3
   },
   "file_extension": ".py",
   "mimetype": "text/x-python",
   "name": "python",
   "nbconvert_exporter": "python",
   "pygments_lexer": "ipython3",
   "version": "3.12.4"
  }
 },
 "nbformat": 4,
 "nbformat_minor": 5
}
